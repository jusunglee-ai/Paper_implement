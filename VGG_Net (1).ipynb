{
  "nbformat": 4,
  "nbformat_minor": 0,
  "metadata": {
    "colab": {
      "provenance": [],
      "gpuType": "T4"
    },
    "kernelspec": {
      "name": "python3",
      "display_name": "Python 3"
    },
    "language_info": {
      "name": "python"
    },
    "accelerator": "GPU"
  },
  "cells": [
    {
      "cell_type": "code",
      "execution_count": null,
      "metadata": {
        "id": "IGhDyE1Buvxo",
        "colab": {
          "base_uri": "https://localhost:8080/"
        },
        "outputId": "6f1a67ea-3f94-4552-8d38-c08866bcf226"
      },
      "outputs": [
        {
          "output_type": "stream",
          "name": "stdout",
          "text": [
            "Collecting tensorboardX\n",
            "  Downloading tensorboardX-2.6.2.2-py2.py3-none-any.whl (101 kB)\n",
            "\u001b[2K     \u001b[90m━━━━━━━━━━━━━━━━━━━━━━━━━━━━━━━━━━━━━━━━\u001b[0m \u001b[32m101.7/101.7 kB\u001b[0m \u001b[31m731.9 kB/s\u001b[0m eta \u001b[36m0:00:00\u001b[0m\n",
            "\u001b[?25hRequirement already satisfied: numpy in /usr/local/lib/python3.10/dist-packages (from tensorboardX) (1.25.2)\n",
            "Requirement already satisfied: packaging in /usr/local/lib/python3.10/dist-packages (from tensorboardX) (24.0)\n",
            "Requirement already satisfied: protobuf>=3.20 in /usr/local/lib/python3.10/dist-packages (from tensorboardX) (3.20.3)\n",
            "Installing collected packages: tensorboardX\n",
            "Successfully installed tensorboardX-2.6.2.2\n"
          ]
        }
      ],
      "source": [
        "# Utils\n",
        "import numpy as np\n",
        "import pandas as pd\n",
        "import seaborn as sns\n",
        "import matplotlib.pyplot as plt\n",
        "from tqdm import tqdm\n",
        "\n",
        "# Torch\n",
        "import torch\n",
        "import torch.nn as nn\n",
        "import torch.nn.functional as F\n",
        "from torchsummary import summary\n",
        "from torchvision import transforms\n",
        "import torchvision\n",
        "! pip install tensorboardX\n",
        "from tensorboardX import SummaryWriter\n",
        "\n",
        "# sklearn\n",
        "from sklearn.metrics import confusion_matrix, classification_report"
      ]
    },
    {
      "cell_type": "code",
      "source": [
        "batch_size=128\n",
        "epochs=50\n",
        "transform=transforms.Compose([transforms.Resize((256,256)),\n",
        "                              transforms.CenterCrop(224),\n",
        "                              transforms.ToTensor(),\n",
        "                              transforms.Normalize((0.5,0.5,0.5),(0.5,0.5,0.5))])\n",
        "#transforms.Compose()는 여러 변환을 하나로 묶어 한번에 변환을 시켜줌.\n",
        "#transforms.ToTensor() PIL이미지나 Numpy배열을 Pytorch 텐서로 변환하여 이미지를 네트워크 입력으로 사용할 수 있게함\n",
        "#transforms.Normalize()각 픽셀 값을 정규화하여, 각 채널의 평균과 표준 편차를 0.5,0.5,0.5로 설정하여\n",
        "#평균이 0이되고 표준편차가 1이되도록 이미지를 정규화함.\n",
        "#이를 통해 픽셀 값 범위를 [-0.5,0.5]에서 [-1,1]매핑함.\n",
        "train_set=torchvision.datasets.CIFAR10(root='./data',train=True,download=True,transform=transform)\n",
        "train_loader=torch.utils.data.DataLoader(train_set,batch_size=batch_size,shuffle=True,num_workers=2)\n",
        "test_set=torchvision.datasets.CIFAR10(root='./data',train=False,download=True,transform=transform)\n",
        "test_loader=torch.utils.data.DataLoader(test_set,batch_size=batch_size,shuffle=False,num_workers=2)\n"
      ],
      "metadata": {
        "colab": {
          "base_uri": "https://localhost:8080/"
        },
        "id": "VWOeRPGqw08M",
        "outputId": "ffeafbb9-97fc-4757-9940-e3013d4621a6"
      },
      "execution_count": null,
      "outputs": [
        {
          "output_type": "stream",
          "name": "stdout",
          "text": [
            "Files already downloaded and verified\n",
            "Files already downloaded and verified\n"
          ]
        }
      ]
    },
    {
      "cell_type": "code",
      "source": [
        "print(len(train_set))\n",
        "print(len(test_set))"
      ],
      "metadata": {
        "colab": {
          "base_uri": "https://localhost:8080/"
        },
        "id": "eDWzGi2d2s2z",
        "outputId": "014626be-2ac3-4dc0-a3d0-a3d36ec604bc"
      },
      "execution_count": null,
      "outputs": [
        {
          "output_type": "stream",
          "name": "stdout",
          "text": [
            "50000\n",
            "10000\n"
          ]
        }
      ]
    },
    {
      "cell_type": "code",
      "source": [
        "class VGGNet11(nn.Module):\n",
        "  def __init__(self):\n",
        "    super().__init__()\n",
        "\n",
        "    self.Conv_layer=nn.Sequential(\n",
        "        nn.Conv2d(3,64,kernel_size=3,stride=1,padding=1),\n",
        "        nn.ReLU(),\n",
        "        nn.MaxPool2d(kernel_size=2,stride=2),\n",
        "\n",
        "        nn.Conv2d(64,128,kernel_size=3,stride=1,padding=1),\n",
        "        nn.ReLU(),\n",
        "        nn.MaxPool2d(kernel_size=2,stride=2),\n",
        "\n",
        "        nn.Conv2d(128,256,kernel_size=3,stride=1,padding=1),\n",
        "        nn.ReLU(),\n",
        "        nn.Conv2d(256,256,kernel_size=3,padding=1),\n",
        "        nn.ReLU(),\n",
        "        nn.MaxPool2d(kernel_size=2,stride=2),\n",
        "\n",
        "\n",
        "        nn.Conv2d(256,512,kernel_size=3,stride=1,padding=1),\n",
        "        nn.ReLU(),\n",
        "        nn.Conv2d(512,512,kernel_size=3,stride=1,padding=1),\n",
        "        nn.ReLU(),\n",
        "        nn.MaxPool2d(kernel_size=2,stride=2),\n",
        "\n",
        "        nn.Conv2d(512,512,kernel_size=3,stride=1,padding=1),\n",
        "        nn.ReLU(),\n",
        "        nn.Conv2d(512,512,kernel_size=3,stride=1,padding=1),\n",
        "        nn.ReLU(),\n",
        "        nn.MaxPool2d(kernel_size=2,stride=2)\n",
        "\n",
        "        )\n",
        "    self.fc=nn.Sequential(\n",
        "        nn.Linear(in_features=512*7*7,out_features=512),\n",
        "        nn.ReLU(),\n",
        "        nn.Dropout(p=0.5),\n",
        "\n",
        "        nn.Linear(in_features=512,out_features=256),\n",
        "        nn.ReLU(),\n",
        "        nn.Dropout(p=0.5),\n",
        "\n",
        "        nn.Linear(in_features=256,out_features=10),\n",
        "        nn.Softmax(dim=1)\n",
        "\n",
        "    )\n",
        "    self.apply(self._init_weight_bias)\n",
        "\n",
        "  def _init_weight_bias(self,module):\n",
        "    classname=module.__class__.__name__\n",
        "    if classname=='Conv2d':\n",
        "      nn.init.normal_(module.weight,mean=0,std=0.01)\n",
        "      nn.init.constant_(module.bias,val=0)\n",
        "    elif classname=='Linear':\n",
        "        nn.init.normal_(module.weight,mean=0,std=0.01)\n",
        "        nn.init.constant_(module.bias,val=0)\n",
        "\n",
        "  def forward(self,x):\n",
        "    x=self.Conv_layer(x)\n",
        "    x=x.view(x.size(0),-1)\n",
        "    x=self.fc(x)\n",
        "\n",
        "    return x"
      ],
      "metadata": {
        "id": "qRAQnsPaTDny"
      },
      "execution_count": null,
      "outputs": []
    },
    {
      "cell_type": "markdown",
      "source": [
        "Set Device and Check Summary"
      ],
      "metadata": {
        "id": "1zFrmppDMyZL"
      }
    },
    {
      "cell_type": "code",
      "source": [
        "use_cuda=torch.cuda.is_available()\n",
        "print(\"use_cuda:\",use_cuda)\n",
        "\n",
        "FloatTensor= torch.cuda.FloatTensor if use_cuda else torch.FloatTensor\n",
        "device=torch.device(\"cuda:0\" if use_cuda else \"Cpu\")\n",
        "VGGNet=VGGNet11().to(device)\n",
        "\n",
        "X=torch.randn(size=(3,224,224)).type(FloatTensor)\n",
        "print(summary(VGGNet,(3,224,224)))"
      ],
      "metadata": {
        "colab": {
          "base_uri": "https://localhost:8080/"
        },
        "id": "lwZoYObALyqC",
        "outputId": "4815be56-7a49-416b-f67d-400266565fb3"
      },
      "execution_count": null,
      "outputs": [
        {
          "output_type": "stream",
          "name": "stdout",
          "text": [
            "use_cuda: True\n",
            "----------------------------------------------------------------\n",
            "        Layer (type)               Output Shape         Param #\n",
            "================================================================\n",
            "            Conv2d-1         [-1, 64, 224, 224]           1,792\n",
            "              ReLU-2         [-1, 64, 224, 224]               0\n",
            "         MaxPool2d-3         [-1, 64, 112, 112]               0\n",
            "            Conv2d-4        [-1, 128, 112, 112]          73,856\n",
            "              ReLU-5        [-1, 128, 112, 112]               0\n",
            "         MaxPool2d-6          [-1, 128, 56, 56]               0\n",
            "            Conv2d-7          [-1, 256, 56, 56]         295,168\n",
            "              ReLU-8          [-1, 256, 56, 56]               0\n",
            "            Conv2d-9          [-1, 256, 56, 56]         590,080\n",
            "             ReLU-10          [-1, 256, 56, 56]               0\n",
            "        MaxPool2d-11          [-1, 256, 28, 28]               0\n",
            "           Conv2d-12          [-1, 512, 28, 28]       1,180,160\n",
            "             ReLU-13          [-1, 512, 28, 28]               0\n",
            "           Conv2d-14          [-1, 512, 28, 28]       2,359,808\n",
            "             ReLU-15          [-1, 512, 28, 28]               0\n",
            "        MaxPool2d-16          [-1, 512, 14, 14]               0\n",
            "           Conv2d-17          [-1, 512, 14, 14]       2,359,808\n",
            "             ReLU-18          [-1, 512, 14, 14]               0\n",
            "           Conv2d-19          [-1, 512, 14, 14]       2,359,808\n",
            "             ReLU-20          [-1, 512, 14, 14]               0\n",
            "        MaxPool2d-21            [-1, 512, 7, 7]               0\n",
            "           Linear-22                  [-1, 512]      12,845,568\n",
            "             ReLU-23                  [-1, 512]               0\n",
            "          Dropout-24                  [-1, 512]               0\n",
            "           Linear-25                  [-1, 256]         131,328\n",
            "             ReLU-26                  [-1, 256]               0\n",
            "          Dropout-27                  [-1, 256]               0\n",
            "           Linear-28                   [-1, 10]           2,570\n",
            "          Softmax-29                   [-1, 10]               0\n",
            "================================================================\n",
            "Total params: 22,199,946\n",
            "Trainable params: 22,199,946\n",
            "Non-trainable params: 0\n",
            "----------------------------------------------------------------\n",
            "Input size (MB): 0.57\n",
            "Forward/backward pass size (MB): 125.01\n",
            "Params size (MB): 84.69\n",
            "Estimated Total Size (MB): 210.27\n",
            "----------------------------------------------------------------\n",
            "None\n"
          ]
        }
      ]
    },
    {
      "cell_type": "markdown",
      "source": [
        "#Loss and optimizer"
      ],
      "metadata": {
        "id": "fK9bQUP5UKCA"
      }
    },
    {
      "cell_type": "code",
      "source": [
        "batch_size=256\n",
        "learning_rate=0.0001\n",
        "epochs=74\n",
        "model=VGGNet11().to(device)\n",
        "criterion=F.cross_entropy\n",
        "optimizer=torch.optim.Adam(model.parameters(),lr=learning_rate)"
      ],
      "metadata": {
        "id": "OU5vLQcCQxJ8"
      },
      "execution_count": null,
      "outputs": []
    },
    {
      "cell_type": "markdown",
      "source": [
        "Training and Testing"
      ],
      "metadata": {
        "id": "xJXM3GCcXEiP"
      }
    },
    {
      "cell_type": "code",
      "source": [
        "writer=SummaryWriter(\"./vggnet/tensorboard\")\n"
      ],
      "metadata": {
        "id": "ZNhoZYyRQFeK"
      },
      "execution_count": null,
      "outputs": []
    },
    {
      "cell_type": "code",
      "source": [
        "def train(model,device,train_loader,optimizer,epoch):\n",
        "  model.train()\n",
        "  for batch_size, (data,target)in enumerate(train_loader):\n",
        "    target=target.type(torch.LongTensor)\n",
        "    data,target=data.to(device),target.to(device)\n",
        "    optimizer.zero_grad()\n",
        "    output=model(data)\n",
        "    loss=criterion(output,target)\n",
        "    loss.backward()\n",
        "    optimizer.step()\n",
        "    if batch_size % 30 == 0:\n",
        "            print(f\"{batch_size*len(data)}/{len(train_loader.dataset)}\")"
      ],
      "metadata": {
        "id": "T3HRpcQyXKNx"
      },
      "execution_count": null,
      "outputs": []
    },
    {
      "cell_type": "code",
      "source": [
        "def test(model,device,test_loader):\n",
        "  model.eval()\n",
        "  test_loss=0\n",
        "  correct=0\n",
        "  with torch.no_grad():\n",
        "    for data, target in test_loader:\n",
        "      data,target=data.to(device),target.to(device)\n",
        "      output=model(data)\n",
        "      test_loss += criterion(output,target,reduction='mean').item()\n",
        "      writer.add_scalar(\"Test Loss\",test_loss,epochs)\n",
        "      pred=output.argmax(1)\n",
        "      correct+=float((pred==target).sum())\n",
        "      writer.add_scalar(\"Test Accuracy\",correct,epochs)\n",
        "\n",
        "    test_loss/=len(test_loader.dataset)\n",
        "    correct/=len(test_loader.dataset)\n",
        "    return test_loss,correct\n",
        "    writer.close()"
      ],
      "metadata": {
        "id": "YiiLqeS5Y3ed"
      },
      "execution_count": null,
      "outputs": []
    },
    {
      "cell_type": "markdown",
      "source": [
        "Per-epoch Activity"
      ],
      "metadata": {
        "id": "fWRBcrqnZiPw"
      }
    },
    {
      "cell_type": "code",
      "source": [
        "for epoch in tqdm(range(1,epochs+1)):\n",
        "  train(model,device,train_loader,optimizer,epoch)\n",
        "  test_loss,test_accuracy=test(model,device,test_loader)\n",
        "  writer.add_scalar(\"Test Loss\",test_loss,epoch)\n",
        "  writer.add_scalar(\"Test Accuracy\",test_accuracy,epoch)\n",
        "  print(f\"Processing Result = Epoch: {epoch} Loss: {test_loss} Accuracy: {test_accuracy}\")\n",
        "  writer.close"
      ],
      "metadata": {
        "colab": {
          "base_uri": "https://localhost:8080/"
        },
        "id": "6vQ3By0UZhyQ",
        "outputId": "2c93dd80-54d9-43e4-8ad9-61c57be1d520"
      },
      "execution_count": null,
      "outputs": [
        {
          "output_type": "stream",
          "name": "stderr",
          "text": [
            "\r  0%|          | 0/50 [00:00<?, ?it/s]/usr/lib/python3.10/multiprocessing/popen_fork.py:66: RuntimeWarning: os.fork() was called. os.fork() is incompatible with multithreaded code, and JAX is multithreaded, so this will likely lead to a deadlock.\n",
            "  self.pid = os.fork()\n"
          ]
        },
        {
          "output_type": "stream",
          "name": "stdout",
          "text": [
            "0/50000\n",
            "3840/50000\n",
            "7680/50000\n",
            "11520/50000\n",
            "15360/50000\n",
            "19200/50000\n",
            "23040/50000\n",
            "26880/50000\n",
            "30720/50000\n",
            "34560/50000\n",
            "38400/50000\n",
            "42240/50000\n",
            "46080/50000\n"
          ]
        },
        {
          "output_type": "stream",
          "name": "stderr",
          "text": [
            "/usr/lib/python3.10/multiprocessing/popen_fork.py:66: RuntimeWarning: os.fork() was called. os.fork() is incompatible with multithreaded code, and JAX is multithreaded, so this will likely lead to a deadlock.\n",
            "  self.pid = os.fork()\n"
          ]
        },
        {
          "output_type": "stream",
          "name": "stdout",
          "text": [
            "31200/50000\n"
          ]
        },
        {
          "output_type": "stream",
          "name": "stderr",
          "text": [
            "\r  2%|▏         | 1/50 [05:45<4:42:23, 345.79s/it]"
          ]
        },
        {
          "output_type": "stream",
          "name": "stdout",
          "text": [
            "Processing Result = Epoch: 1 Loss: 0.016746708047389983 Accuracy: 0.3282\n",
            "0/50000\n",
            "3840/50000\n",
            "7680/50000\n",
            "11520/50000\n",
            "15360/50000\n",
            "19200/50000\n",
            "23040/50000\n",
            "26880/50000\n",
            "30720/50000\n",
            "34560/50000\n",
            "38400/50000\n",
            "42240/50000\n",
            "46080/50000\n",
            "31200/50000\n"
          ]
        },
        {
          "output_type": "stream",
          "name": "stderr",
          "text": [
            "\r  4%|▍         | 2/50 [11:38<4:39:59, 349.98s/it]"
          ]
        },
        {
          "output_type": "stream",
          "name": "stdout",
          "text": [
            "Processing Result = Epoch: 2 Loss: 0.016454957056045532 Accuracy: 0.3693\n",
            "0/50000\n",
            "3840/50000\n",
            "7680/50000\n",
            "11520/50000\n",
            "15360/50000\n",
            "19200/50000\n",
            "23040/50000\n",
            "26880/50000\n",
            "30720/50000\n",
            "34560/50000\n",
            "38400/50000\n",
            "42240/50000\n",
            "46080/50000\n",
            "31200/50000\n"
          ]
        },
        {
          "output_type": "stream",
          "name": "stderr",
          "text": [
            "\r  6%|▌         | 3/50 [17:32<4:35:27, 351.65s/it]"
          ]
        },
        {
          "output_type": "stream",
          "name": "stdout",
          "text": [
            "Processing Result = Epoch: 3 Loss: 0.01610727609395981 Accuracy: 0.415\n",
            "0/50000\n",
            "3840/50000\n",
            "7680/50000\n",
            "11520/50000\n",
            "15360/50000\n",
            "19200/50000\n",
            "23040/50000\n",
            "26880/50000\n",
            "30720/50000\n",
            "34560/50000\n",
            "38400/50000\n",
            "42240/50000\n",
            "46080/50000\n",
            "31200/50000\n"
          ]
        },
        {
          "output_type": "stream",
          "name": "stderr",
          "text": [
            "\r  8%|▊         | 4/50 [23:25<4:29:59, 352.16s/it]"
          ]
        },
        {
          "output_type": "stream",
          "name": "stdout",
          "text": [
            "Processing Result = Epoch: 4 Loss: 0.0159467028260231 Accuracy: 0.4371\n",
            "0/50000\n",
            "3840/50000\n",
            "7680/50000\n",
            "11520/50000\n",
            "15360/50000\n",
            "19200/50000\n",
            "23040/50000\n",
            "26880/50000\n",
            "30720/50000\n",
            "34560/50000\n",
            "38400/50000\n",
            "42240/50000\n",
            "46080/50000\n",
            "31200/50000\n"
          ]
        },
        {
          "output_type": "stream",
          "name": "stderr",
          "text": [
            "\r 10%|█         | 5/50 [29:17<4:24:08, 352.18s/it]"
          ]
        },
        {
          "output_type": "stream",
          "name": "stdout",
          "text": [
            "Processing Result = Epoch: 5 Loss: 0.015760223400592802 Accuracy: 0.4632\n",
            "0/50000\n",
            "3840/50000\n",
            "7680/50000\n",
            "11520/50000\n",
            "15360/50000\n",
            "19200/50000\n",
            "23040/50000\n",
            "26880/50000\n",
            "30720/50000\n",
            "34560/50000\n",
            "38400/50000\n",
            "42240/50000\n",
            "46080/50000\n",
            "31200/50000\n"
          ]
        },
        {
          "output_type": "stream",
          "name": "stderr",
          "text": [
            "\r 12%|█▏        | 6/50 [35:09<4:18:06, 351.97s/it]"
          ]
        },
        {
          "output_type": "stream",
          "name": "stdout",
          "text": [
            "Processing Result = Epoch: 6 Loss: 0.0155676677942276 Accuracy: 0.486\n",
            "0/50000\n",
            "3840/50000\n",
            "7680/50000\n",
            "11520/50000\n",
            "15360/50000\n",
            "19200/50000\n",
            "23040/50000\n",
            "26880/50000\n",
            "30720/50000\n",
            "34560/50000\n",
            "38400/50000\n",
            "42240/50000\n",
            "46080/50000\n",
            "31200/50000\n"
          ]
        },
        {
          "output_type": "stream",
          "name": "stderr",
          "text": [
            "\r 14%|█▍        | 7/50 [41:01<4:12:27, 352.28s/it]"
          ]
        },
        {
          "output_type": "stream",
          "name": "stdout",
          "text": [
            "Processing Result = Epoch: 7 Loss: 0.015406526792049407 Accuracy: 0.5092\n",
            "0/50000\n",
            "3840/50000\n",
            "7680/50000\n",
            "11520/50000\n",
            "15360/50000\n",
            "19200/50000\n",
            "23040/50000\n",
            "26880/50000\n",
            "30720/50000\n",
            "34560/50000\n",
            "38400/50000\n",
            "42240/50000\n",
            "46080/50000\n",
            "31200/50000\n"
          ]
        },
        {
          "output_type": "stream",
          "name": "stderr",
          "text": [
            "\r 16%|█▌        | 8/50 [46:53<4:06:32, 352.19s/it]"
          ]
        },
        {
          "output_type": "stream",
          "name": "stdout",
          "text": [
            "Processing Result = Epoch: 8 Loss: 0.015396364116668702 Accuracy: 0.5088\n",
            "0/50000\n",
            "3840/50000\n",
            "7680/50000\n"
          ]
        }
      ]
    },
    {
      "cell_type": "markdown",
      "source": [
        "Visualization of VGG Net 11\n",
        "\n",
        "\n",
        "*   Accuracy and Loss\n",
        "\n",
        "\n"
      ],
      "metadata": {
        "id": "uynL-aujaI-Q"
      }
    },
    {
      "cell_type": "code",
      "source": [
        "%reload_ext tensorboard\n",
        "%tensorboard --logdir=./vggnet/tensorboard --port=8008"
      ],
      "metadata": {
        "id": "mkO3Ry_yaH_n"
      },
      "execution_count": null,
      "outputs": []
    }
  ]
}